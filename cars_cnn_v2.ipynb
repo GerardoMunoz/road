{
  "nbformat": 4,
  "nbformat_minor": 0,
  "metadata": {
    "colab": {
      "provenance": [],
      "gpuType": "L4",
      "machine_shape": "hm",
      "authorship_tag": "ABX9TyMdo+qM04wrcan5g2gYjuKR",
      "include_colab_link": true
    },
    "kernelspec": {
      "name": "python3",
      "display_name": "Python 3"
    },
    "language_info": {
      "name": "python"
    },
    "accelerator": "GPU",
    "widgets": {
      "application/vnd.jupyter.widget-state+json": {
        "c1f61367b4d64dc2a6de161d995566ec": {
          "model_module": "@jupyter-widgets/controls",
          "model_name": "HBoxModel",
          "model_module_version": "1.5.0",
          "state": {
            "_dom_classes": [],
            "_model_module": "@jupyter-widgets/controls",
            "_model_module_version": "1.5.0",
            "_model_name": "HBoxModel",
            "_view_count": null,
            "_view_module": "@jupyter-widgets/controls",
            "_view_module_version": "1.5.0",
            "_view_name": "HBoxView",
            "box_style": "",
            "children": [
              "IPY_MODEL_eb6373fb2d754dd995515ac6ef81f63b",
              "IPY_MODEL_baa59338b96a482a82250a08acdf420d",
              "IPY_MODEL_20a4f80aaa3f4f9b9f6b3da9b81131d6"
            ],
            "layout": "IPY_MODEL_e7efb80a266548b9bc1b6323d2a6194d"
          }
        },
        "eb6373fb2d754dd995515ac6ef81f63b": {
          "model_module": "@jupyter-widgets/controls",
          "model_name": "HTMLModel",
          "model_module_version": "1.5.0",
          "state": {
            "_dom_classes": [],
            "_model_module": "@jupyter-widgets/controls",
            "_model_module_version": "1.5.0",
            "_model_name": "HTMLModel",
            "_view_count": null,
            "_view_module": "@jupyter-widgets/controls",
            "_view_module_version": "1.5.0",
            "_view_name": "HTMLView",
            "description": "",
            "description_tooltip": null,
            "layout": "IPY_MODEL_95eb0444d4334fa692454b104f8dd1e3",
            "placeholder": "​",
            "style": "IPY_MODEL_14b5db512ae14584a6a611e633fe2f9e",
            "value": "tokenizer_config.json: 100%"
          }
        },
        "baa59338b96a482a82250a08acdf420d": {
          "model_module": "@jupyter-widgets/controls",
          "model_name": "FloatProgressModel",
          "model_module_version": "1.5.0",
          "state": {
            "_dom_classes": [],
            "_model_module": "@jupyter-widgets/controls",
            "_model_module_version": "1.5.0",
            "_model_name": "FloatProgressModel",
            "_view_count": null,
            "_view_module": "@jupyter-widgets/controls",
            "_view_module_version": "1.5.0",
            "_view_name": "ProgressView",
            "bar_style": "success",
            "description": "",
            "description_tooltip": null,
            "layout": "IPY_MODEL_5cf3a3e44e384e9a82073793ca741e6d",
            "max": 48,
            "min": 0,
            "orientation": "horizontal",
            "style": "IPY_MODEL_873a9ba126524298af7f759509453fa0",
            "value": 48
          }
        },
        "20a4f80aaa3f4f9b9f6b3da9b81131d6": {
          "model_module": "@jupyter-widgets/controls",
          "model_name": "HTMLModel",
          "model_module_version": "1.5.0",
          "state": {
            "_dom_classes": [],
            "_model_module": "@jupyter-widgets/controls",
            "_model_module_version": "1.5.0",
            "_model_name": "HTMLModel",
            "_view_count": null,
            "_view_module": "@jupyter-widgets/controls",
            "_view_module_version": "1.5.0",
            "_view_name": "HTMLView",
            "description": "",
            "description_tooltip": null,
            "layout": "IPY_MODEL_a9ab7ce3f9bb4f2bb903bbd7ec75cb68",
            "placeholder": "​",
            "style": "IPY_MODEL_3abb040f9d05447bafb4b255cb99dacf",
            "value": " 48.0/48.0 [00:00&lt;00:00, 3.96kB/s]"
          }
        },
        "e7efb80a266548b9bc1b6323d2a6194d": {
          "model_module": "@jupyter-widgets/base",
          "model_name": "LayoutModel",
          "model_module_version": "1.2.0",
          "state": {
            "_model_module": "@jupyter-widgets/base",
            "_model_module_version": "1.2.0",
            "_model_name": "LayoutModel",
            "_view_count": null,
            "_view_module": "@jupyter-widgets/base",
            "_view_module_version": "1.2.0",
            "_view_name": "LayoutView",
            "align_content": null,
            "align_items": null,
            "align_self": null,
            "border": null,
            "bottom": null,
            "display": null,
            "flex": null,
            "flex_flow": null,
            "grid_area": null,
            "grid_auto_columns": null,
            "grid_auto_flow": null,
            "grid_auto_rows": null,
            "grid_column": null,
            "grid_gap": null,
            "grid_row": null,
            "grid_template_areas": null,
            "grid_template_columns": null,
            "grid_template_rows": null,
            "height": null,
            "justify_content": null,
            "justify_items": null,
            "left": null,
            "margin": null,
            "max_height": null,
            "max_width": null,
            "min_height": null,
            "min_width": null,
            "object_fit": null,
            "object_position": null,
            "order": null,
            "overflow": null,
            "overflow_x": null,
            "overflow_y": null,
            "padding": null,
            "right": null,
            "top": null,
            "visibility": null,
            "width": null
          }
        },
        "95eb0444d4334fa692454b104f8dd1e3": {
          "model_module": "@jupyter-widgets/base",
          "model_name": "LayoutModel",
          "model_module_version": "1.2.0",
          "state": {
            "_model_module": "@jupyter-widgets/base",
            "_model_module_version": "1.2.0",
            "_model_name": "LayoutModel",
            "_view_count": null,
            "_view_module": "@jupyter-widgets/base",
            "_view_module_version": "1.2.0",
            "_view_name": "LayoutView",
            "align_content": null,
            "align_items": null,
            "align_self": null,
            "border": null,
            "bottom": null,
            "display": null,
            "flex": null,
            "flex_flow": null,
            "grid_area": null,
            "grid_auto_columns": null,
            "grid_auto_flow": null,
            "grid_auto_rows": null,
            "grid_column": null,
            "grid_gap": null,
            "grid_row": null,
            "grid_template_areas": null,
            "grid_template_columns": null,
            "grid_template_rows": null,
            "height": null,
            "justify_content": null,
            "justify_items": null,
            "left": null,
            "margin": null,
            "max_height": null,
            "max_width": null,
            "min_height": null,
            "min_width": null,
            "object_fit": null,
            "object_position": null,
            "order": null,
            "overflow": null,
            "overflow_x": null,
            "overflow_y": null,
            "padding": null,
            "right": null,
            "top": null,
            "visibility": null,
            "width": null
          }
        },
        "14b5db512ae14584a6a611e633fe2f9e": {
          "model_module": "@jupyter-widgets/controls",
          "model_name": "DescriptionStyleModel",
          "model_module_version": "1.5.0",
          "state": {
            "_model_module": "@jupyter-widgets/controls",
            "_model_module_version": "1.5.0",
            "_model_name": "DescriptionStyleModel",
            "_view_count": null,
            "_view_module": "@jupyter-widgets/base",
            "_view_module_version": "1.2.0",
            "_view_name": "StyleView",
            "description_width": ""
          }
        },
        "5cf3a3e44e384e9a82073793ca741e6d": {
          "model_module": "@jupyter-widgets/base",
          "model_name": "LayoutModel",
          "model_module_version": "1.2.0",
          "state": {
            "_model_module": "@jupyter-widgets/base",
            "_model_module_version": "1.2.0",
            "_model_name": "LayoutModel",
            "_view_count": null,
            "_view_module": "@jupyter-widgets/base",
            "_view_module_version": "1.2.0",
            "_view_name": "LayoutView",
            "align_content": null,
            "align_items": null,
            "align_self": null,
            "border": null,
            "bottom": null,
            "display": null,
            "flex": null,
            "flex_flow": null,
            "grid_area": null,
            "grid_auto_columns": null,
            "grid_auto_flow": null,
            "grid_auto_rows": null,
            "grid_column": null,
            "grid_gap": null,
            "grid_row": null,
            "grid_template_areas": null,
            "grid_template_columns": null,
            "grid_template_rows": null,
            "height": null,
            "justify_content": null,
            "justify_items": null,
            "left": null,
            "margin": null,
            "max_height": null,
            "max_width": null,
            "min_height": null,
            "min_width": null,
            "object_fit": null,
            "object_position": null,
            "order": null,
            "overflow": null,
            "overflow_x": null,
            "overflow_y": null,
            "padding": null,
            "right": null,
            "top": null,
            "visibility": null,
            "width": null
          }
        },
        "873a9ba126524298af7f759509453fa0": {
          "model_module": "@jupyter-widgets/controls",
          "model_name": "ProgressStyleModel",
          "model_module_version": "1.5.0",
          "state": {
            "_model_module": "@jupyter-widgets/controls",
            "_model_module_version": "1.5.0",
            "_model_name": "ProgressStyleModel",
            "_view_count": null,
            "_view_module": "@jupyter-widgets/base",
            "_view_module_version": "1.2.0",
            "_view_name": "StyleView",
            "bar_color": null,
            "description_width": ""
          }
        },
        "a9ab7ce3f9bb4f2bb903bbd7ec75cb68": {
          "model_module": "@jupyter-widgets/base",
          "model_name": "LayoutModel",
          "model_module_version": "1.2.0",
          "state": {
            "_model_module": "@jupyter-widgets/base",
            "_model_module_version": "1.2.0",
            "_model_name": "LayoutModel",
            "_view_count": null,
            "_view_module": "@jupyter-widgets/base",
            "_view_module_version": "1.2.0",
            "_view_name": "LayoutView",
            "align_content": null,
            "align_items": null,
            "align_self": null,
            "border": null,
            "bottom": null,
            "display": null,
            "flex": null,
            "flex_flow": null,
            "grid_area": null,
            "grid_auto_columns": null,
            "grid_auto_flow": null,
            "grid_auto_rows": null,
            "grid_column": null,
            "grid_gap": null,
            "grid_row": null,
            "grid_template_areas": null,
            "grid_template_columns": null,
            "grid_template_rows": null,
            "height": null,
            "justify_content": null,
            "justify_items": null,
            "left": null,
            "margin": null,
            "max_height": null,
            "max_width": null,
            "min_height": null,
            "min_width": null,
            "object_fit": null,
            "object_position": null,
            "order": null,
            "overflow": null,
            "overflow_x": null,
            "overflow_y": null,
            "padding": null,
            "right": null,
            "top": null,
            "visibility": null,
            "width": null
          }
        },
        "3abb040f9d05447bafb4b255cb99dacf": {
          "model_module": "@jupyter-widgets/controls",
          "model_name": "DescriptionStyleModel",
          "model_module_version": "1.5.0",
          "state": {
            "_model_module": "@jupyter-widgets/controls",
            "_model_module_version": "1.5.0",
            "_model_name": "DescriptionStyleModel",
            "_view_count": null,
            "_view_module": "@jupyter-widgets/base",
            "_view_module_version": "1.2.0",
            "_view_name": "StyleView",
            "description_width": ""
          }
        },
        "6cc038a478674d47bacc6f2c00352cbb": {
          "model_module": "@jupyter-widgets/controls",
          "model_name": "HBoxModel",
          "model_module_version": "1.5.0",
          "state": {
            "_dom_classes": [],
            "_model_module": "@jupyter-widgets/controls",
            "_model_module_version": "1.5.0",
            "_model_name": "HBoxModel",
            "_view_count": null,
            "_view_module": "@jupyter-widgets/controls",
            "_view_module_version": "1.5.0",
            "_view_name": "HBoxView",
            "box_style": "",
            "children": [
              "IPY_MODEL_c9fc4a2c756844ef9b623fb17af47b14",
              "IPY_MODEL_63d4e1b3ccab4373819a9be1cf8f0dee",
              "IPY_MODEL_8f2f9493d1c245fb8d1d0718870712f6"
            ],
            "layout": "IPY_MODEL_b0940e25fdea4812beffab3f4a5510a8"
          }
        },
        "c9fc4a2c756844ef9b623fb17af47b14": {
          "model_module": "@jupyter-widgets/controls",
          "model_name": "HTMLModel",
          "model_module_version": "1.5.0",
          "state": {
            "_dom_classes": [],
            "_model_module": "@jupyter-widgets/controls",
            "_model_module_version": "1.5.0",
            "_model_name": "HTMLModel",
            "_view_count": null,
            "_view_module": "@jupyter-widgets/controls",
            "_view_module_version": "1.5.0",
            "_view_name": "HTMLView",
            "description": "",
            "description_tooltip": null,
            "layout": "IPY_MODEL_b6a96c928d9a4e67aafed5eaeb508a46",
            "placeholder": "​",
            "style": "IPY_MODEL_4f88e3fbc24b4ffcb1d5a19bdfa3291e",
            "value": "config.json: 100%"
          }
        },
        "63d4e1b3ccab4373819a9be1cf8f0dee": {
          "model_module": "@jupyter-widgets/controls",
          "model_name": "FloatProgressModel",
          "model_module_version": "1.5.0",
          "state": {
            "_dom_classes": [],
            "_model_module": "@jupyter-widgets/controls",
            "_model_module_version": "1.5.0",
            "_model_name": "FloatProgressModel",
            "_view_count": null,
            "_view_module": "@jupyter-widgets/controls",
            "_view_module_version": "1.5.0",
            "_view_name": "ProgressView",
            "bar_style": "success",
            "description": "",
            "description_tooltip": null,
            "layout": "IPY_MODEL_f6969bf197dd40e49fc8a9b4ef70c530",
            "max": 570,
            "min": 0,
            "orientation": "horizontal",
            "style": "IPY_MODEL_2ee21f51acbf42f49e7c7a494149dc7d",
            "value": 570
          }
        },
        "8f2f9493d1c245fb8d1d0718870712f6": {
          "model_module": "@jupyter-widgets/controls",
          "model_name": "HTMLModel",
          "model_module_version": "1.5.0",
          "state": {
            "_dom_classes": [],
            "_model_module": "@jupyter-widgets/controls",
            "_model_module_version": "1.5.0",
            "_model_name": "HTMLModel",
            "_view_count": null,
            "_view_module": "@jupyter-widgets/controls",
            "_view_module_version": "1.5.0",
            "_view_name": "HTMLView",
            "description": "",
            "description_tooltip": null,
            "layout": "IPY_MODEL_e2ed02cd44e14229b151ea3044f22edf",
            "placeholder": "​",
            "style": "IPY_MODEL_74d54a4f4e6f4c908db1ccf817346bba",
            "value": " 570/570 [00:00&lt;00:00, 48.2kB/s]"
          }
        },
        "b0940e25fdea4812beffab3f4a5510a8": {
          "model_module": "@jupyter-widgets/base",
          "model_name": "LayoutModel",
          "model_module_version": "1.2.0",
          "state": {
            "_model_module": "@jupyter-widgets/base",
            "_model_module_version": "1.2.0",
            "_model_name": "LayoutModel",
            "_view_count": null,
            "_view_module": "@jupyter-widgets/base",
            "_view_module_version": "1.2.0",
            "_view_name": "LayoutView",
            "align_content": null,
            "align_items": null,
            "align_self": null,
            "border": null,
            "bottom": null,
            "display": null,
            "flex": null,
            "flex_flow": null,
            "grid_area": null,
            "grid_auto_columns": null,
            "grid_auto_flow": null,
            "grid_auto_rows": null,
            "grid_column": null,
            "grid_gap": null,
            "grid_row": null,
            "grid_template_areas": null,
            "grid_template_columns": null,
            "grid_template_rows": null,
            "height": null,
            "justify_content": null,
            "justify_items": null,
            "left": null,
            "margin": null,
            "max_height": null,
            "max_width": null,
            "min_height": null,
            "min_width": null,
            "object_fit": null,
            "object_position": null,
            "order": null,
            "overflow": null,
            "overflow_x": null,
            "overflow_y": null,
            "padding": null,
            "right": null,
            "top": null,
            "visibility": null,
            "width": null
          }
        },
        "b6a96c928d9a4e67aafed5eaeb508a46": {
          "model_module": "@jupyter-widgets/base",
          "model_name": "LayoutModel",
          "model_module_version": "1.2.0",
          "state": {
            "_model_module": "@jupyter-widgets/base",
            "_model_module_version": "1.2.0",
            "_model_name": "LayoutModel",
            "_view_count": null,
            "_view_module": "@jupyter-widgets/base",
            "_view_module_version": "1.2.0",
            "_view_name": "LayoutView",
            "align_content": null,
            "align_items": null,
            "align_self": null,
            "border": null,
            "bottom": null,
            "display": null,
            "flex": null,
            "flex_flow": null,
            "grid_area": null,
            "grid_auto_columns": null,
            "grid_auto_flow": null,
            "grid_auto_rows": null,
            "grid_column": null,
            "grid_gap": null,
            "grid_row": null,
            "grid_template_areas": null,
            "grid_template_columns": null,
            "grid_template_rows": null,
            "height": null,
            "justify_content": null,
            "justify_items": null,
            "left": null,
            "margin": null,
            "max_height": null,
            "max_width": null,
            "min_height": null,
            "min_width": null,
            "object_fit": null,
            "object_position": null,
            "order": null,
            "overflow": null,
            "overflow_x": null,
            "overflow_y": null,
            "padding": null,
            "right": null,
            "top": null,
            "visibility": null,
            "width": null
          }
        },
        "4f88e3fbc24b4ffcb1d5a19bdfa3291e": {
          "model_module": "@jupyter-widgets/controls",
          "model_name": "DescriptionStyleModel",
          "model_module_version": "1.5.0",
          "state": {
            "_model_module": "@jupyter-widgets/controls",
            "_model_module_version": "1.5.0",
            "_model_name": "DescriptionStyleModel",
            "_view_count": null,
            "_view_module": "@jupyter-widgets/base",
            "_view_module_version": "1.2.0",
            "_view_name": "StyleView",
            "description_width": ""
          }
        },
        "f6969bf197dd40e49fc8a9b4ef70c530": {
          "model_module": "@jupyter-widgets/base",
          "model_name": "LayoutModel",
          "model_module_version": "1.2.0",
          "state": {
            "_model_module": "@jupyter-widgets/base",
            "_model_module_version": "1.2.0",
            "_model_name": "LayoutModel",
            "_view_count": null,
            "_view_module": "@jupyter-widgets/base",
            "_view_module_version": "1.2.0",
            "_view_name": "LayoutView",
            "align_content": null,
            "align_items": null,
            "align_self": null,
            "border": null,
            "bottom": null,
            "display": null,
            "flex": null,
            "flex_flow": null,
            "grid_area": null,
            "grid_auto_columns": null,
            "grid_auto_flow": null,
            "grid_auto_rows": null,
            "grid_column": null,
            "grid_gap": null,
            "grid_row": null,
            "grid_template_areas": null,
            "grid_template_columns": null,
            "grid_template_rows": null,
            "height": null,
            "justify_content": null,
            "justify_items": null,
            "left": null,
            "margin": null,
            "max_height": null,
            "max_width": null,
            "min_height": null,
            "min_width": null,
            "object_fit": null,
            "object_position": null,
            "order": null,
            "overflow": null,
            "overflow_x": null,
            "overflow_y": null,
            "padding": null,
            "right": null,
            "top": null,
            "visibility": null,
            "width": null
          }
        },
        "2ee21f51acbf42f49e7c7a494149dc7d": {
          "model_module": "@jupyter-widgets/controls",
          "model_name": "ProgressStyleModel",
          "model_module_version": "1.5.0",
          "state": {
            "_model_module": "@jupyter-widgets/controls",
            "_model_module_version": "1.5.0",
            "_model_name": "ProgressStyleModel",
            "_view_count": null,
            "_view_module": "@jupyter-widgets/base",
            "_view_module_version": "1.2.0",
            "_view_name": "StyleView",
            "bar_color": null,
            "description_width": ""
          }
        },
        "e2ed02cd44e14229b151ea3044f22edf": {
          "model_module": "@jupyter-widgets/base",
          "model_name": "LayoutModel",
          "model_module_version": "1.2.0",
          "state": {
            "_model_module": "@jupyter-widgets/base",
            "_model_module_version": "1.2.0",
            "_model_name": "LayoutModel",
            "_view_count": null,
            "_view_module": "@jupyter-widgets/base",
            "_view_module_version": "1.2.0",
            "_view_name": "LayoutView",
            "align_content": null,
            "align_items": null,
            "align_self": null,
            "border": null,
            "bottom": null,
            "display": null,
            "flex": null,
            "flex_flow": null,
            "grid_area": null,
            "grid_auto_columns": null,
            "grid_auto_flow": null,
            "grid_auto_rows": null,
            "grid_column": null,
            "grid_gap": null,
            "grid_row": null,
            "grid_template_areas": null,
            "grid_template_columns": null,
            "grid_template_rows": null,
            "height": null,
            "justify_content": null,
            "justify_items": null,
            "left": null,
            "margin": null,
            "max_height": null,
            "max_width": null,
            "min_height": null,
            "min_width": null,
            "object_fit": null,
            "object_position": null,
            "order": null,
            "overflow": null,
            "overflow_x": null,
            "overflow_y": null,
            "padding": null,
            "right": null,
            "top": null,
            "visibility": null,
            "width": null
          }
        },
        "74d54a4f4e6f4c908db1ccf817346bba": {
          "model_module": "@jupyter-widgets/controls",
          "model_name": "DescriptionStyleModel",
          "model_module_version": "1.5.0",
          "state": {
            "_model_module": "@jupyter-widgets/controls",
            "_model_module_version": "1.5.0",
            "_model_name": "DescriptionStyleModel",
            "_view_count": null,
            "_view_module": "@jupyter-widgets/base",
            "_view_module_version": "1.2.0",
            "_view_name": "StyleView",
            "description_width": ""
          }
        },
        "8cb93f40cec640a4952d64cab93f1032": {
          "model_module": "@jupyter-widgets/controls",
          "model_name": "HBoxModel",
          "model_module_version": "1.5.0",
          "state": {
            "_dom_classes": [],
            "_model_module": "@jupyter-widgets/controls",
            "_model_module_version": "1.5.0",
            "_model_name": "HBoxModel",
            "_view_count": null,
            "_view_module": "@jupyter-widgets/controls",
            "_view_module_version": "1.5.0",
            "_view_name": "HBoxView",
            "box_style": "",
            "children": [
              "IPY_MODEL_1bcd4f2c3f4243898bccb6fa718ab02c",
              "IPY_MODEL_cdebc050d4e64649acb46bff47edf7f6",
              "IPY_MODEL_67507e7fb9764596a480e5ae8f63bca4"
            ],
            "layout": "IPY_MODEL_9e8354083e5e4643aaba48ca14ec2933"
          }
        },
        "1bcd4f2c3f4243898bccb6fa718ab02c": {
          "model_module": "@jupyter-widgets/controls",
          "model_name": "HTMLModel",
          "model_module_version": "1.5.0",
          "state": {
            "_dom_classes": [],
            "_model_module": "@jupyter-widgets/controls",
            "_model_module_version": "1.5.0",
            "_model_name": "HTMLModel",
            "_view_count": null,
            "_view_module": "@jupyter-widgets/controls",
            "_view_module_version": "1.5.0",
            "_view_name": "HTMLView",
            "description": "",
            "description_tooltip": null,
            "layout": "IPY_MODEL_f236201cf9204d22aa9f3f52cf24245d",
            "placeholder": "​",
            "style": "IPY_MODEL_6514df3c5b3f478db8f5dc44b86b24b4",
            "value": "vocab.txt: 100%"
          }
        },
        "cdebc050d4e64649acb46bff47edf7f6": {
          "model_module": "@jupyter-widgets/controls",
          "model_name": "FloatProgressModel",
          "model_module_version": "1.5.0",
          "state": {
            "_dom_classes": [],
            "_model_module": "@jupyter-widgets/controls",
            "_model_module_version": "1.5.0",
            "_model_name": "FloatProgressModel",
            "_view_count": null,
            "_view_module": "@jupyter-widgets/controls",
            "_view_module_version": "1.5.0",
            "_view_name": "ProgressView",
            "bar_style": "success",
            "description": "",
            "description_tooltip": null,
            "layout": "IPY_MODEL_830dacc30ab143bca929d81763ec04ca",
            "max": 231508,
            "min": 0,
            "orientation": "horizontal",
            "style": "IPY_MODEL_e9ff6e47b849429b803cbe112fabeba9",
            "value": 231508
          }
        },
        "67507e7fb9764596a480e5ae8f63bca4": {
          "model_module": "@jupyter-widgets/controls",
          "model_name": "HTMLModel",
          "model_module_version": "1.5.0",
          "state": {
            "_dom_classes": [],
            "_model_module": "@jupyter-widgets/controls",
            "_model_module_version": "1.5.0",
            "_model_name": "HTMLModel",
            "_view_count": null,
            "_view_module": "@jupyter-widgets/controls",
            "_view_module_version": "1.5.0",
            "_view_name": "HTMLView",
            "description": "",
            "description_tooltip": null,
            "layout": "IPY_MODEL_55acedefe4fc492ca0332e4956050eb4",
            "placeholder": "​",
            "style": "IPY_MODEL_7b0a34102feb46b7a0b229ca9a3385cd",
            "value": " 232k/232k [00:00&lt;00:00, 1.08MB/s]"
          }
        },
        "9e8354083e5e4643aaba48ca14ec2933": {
          "model_module": "@jupyter-widgets/base",
          "model_name": "LayoutModel",
          "model_module_version": "1.2.0",
          "state": {
            "_model_module": "@jupyter-widgets/base",
            "_model_module_version": "1.2.0",
            "_model_name": "LayoutModel",
            "_view_count": null,
            "_view_module": "@jupyter-widgets/base",
            "_view_module_version": "1.2.0",
            "_view_name": "LayoutView",
            "align_content": null,
            "align_items": null,
            "align_self": null,
            "border": null,
            "bottom": null,
            "display": null,
            "flex": null,
            "flex_flow": null,
            "grid_area": null,
            "grid_auto_columns": null,
            "grid_auto_flow": null,
            "grid_auto_rows": null,
            "grid_column": null,
            "grid_gap": null,
            "grid_row": null,
            "grid_template_areas": null,
            "grid_template_columns": null,
            "grid_template_rows": null,
            "height": null,
            "justify_content": null,
            "justify_items": null,
            "left": null,
            "margin": null,
            "max_height": null,
            "max_width": null,
            "min_height": null,
            "min_width": null,
            "object_fit": null,
            "object_position": null,
            "order": null,
            "overflow": null,
            "overflow_x": null,
            "overflow_y": null,
            "padding": null,
            "right": null,
            "top": null,
            "visibility": null,
            "width": null
          }
        },
        "f236201cf9204d22aa9f3f52cf24245d": {
          "model_module": "@jupyter-widgets/base",
          "model_name": "LayoutModel",
          "model_module_version": "1.2.0",
          "state": {
            "_model_module": "@jupyter-widgets/base",
            "_model_module_version": "1.2.0",
            "_model_name": "LayoutModel",
            "_view_count": null,
            "_view_module": "@jupyter-widgets/base",
            "_view_module_version": "1.2.0",
            "_view_name": "LayoutView",
            "align_content": null,
            "align_items": null,
            "align_self": null,
            "border": null,
            "bottom": null,
            "display": null,
            "flex": null,
            "flex_flow": null,
            "grid_area": null,
            "grid_auto_columns": null,
            "grid_auto_flow": null,
            "grid_auto_rows": null,
            "grid_column": null,
            "grid_gap": null,
            "grid_row": null,
            "grid_template_areas": null,
            "grid_template_columns": null,
            "grid_template_rows": null,
            "height": null,
            "justify_content": null,
            "justify_items": null,
            "left": null,
            "margin": null,
            "max_height": null,
            "max_width": null,
            "min_height": null,
            "min_width": null,
            "object_fit": null,
            "object_position": null,
            "order": null,
            "overflow": null,
            "overflow_x": null,
            "overflow_y": null,
            "padding": null,
            "right": null,
            "top": null,
            "visibility": null,
            "width": null
          }
        },
        "6514df3c5b3f478db8f5dc44b86b24b4": {
          "model_module": "@jupyter-widgets/controls",
          "model_name": "DescriptionStyleModel",
          "model_module_version": "1.5.0",
          "state": {
            "_model_module": "@jupyter-widgets/controls",
            "_model_module_version": "1.5.0",
            "_model_name": "DescriptionStyleModel",
            "_view_count": null,
            "_view_module": "@jupyter-widgets/base",
            "_view_module_version": "1.2.0",
            "_view_name": "StyleView",
            "description_width": ""
          }
        },
        "830dacc30ab143bca929d81763ec04ca": {
          "model_module": "@jupyter-widgets/base",
          "model_name": "LayoutModel",
          "model_module_version": "1.2.0",
          "state": {
            "_model_module": "@jupyter-widgets/base",
            "_model_module_version": "1.2.0",
            "_model_name": "LayoutModel",
            "_view_count": null,
            "_view_module": "@jupyter-widgets/base",
            "_view_module_version": "1.2.0",
            "_view_name": "LayoutView",
            "align_content": null,
            "align_items": null,
            "align_self": null,
            "border": null,
            "bottom": null,
            "display": null,
            "flex": null,
            "flex_flow": null,
            "grid_area": null,
            "grid_auto_columns": null,
            "grid_auto_flow": null,
            "grid_auto_rows": null,
            "grid_column": null,
            "grid_gap": null,
            "grid_row": null,
            "grid_template_areas": null,
            "grid_template_columns": null,
            "grid_template_rows": null,
            "height": null,
            "justify_content": null,
            "justify_items": null,
            "left": null,
            "margin": null,
            "max_height": null,
            "max_width": null,
            "min_height": null,
            "min_width": null,
            "object_fit": null,
            "object_position": null,
            "order": null,
            "overflow": null,
            "overflow_x": null,
            "overflow_y": null,
            "padding": null,
            "right": null,
            "top": null,
            "visibility": null,
            "width": null
          }
        },
        "e9ff6e47b849429b803cbe112fabeba9": {
          "model_module": "@jupyter-widgets/controls",
          "model_name": "ProgressStyleModel",
          "model_module_version": "1.5.0",
          "state": {
            "_model_module": "@jupyter-widgets/controls",
            "_model_module_version": "1.5.0",
            "_model_name": "ProgressStyleModel",
            "_view_count": null,
            "_view_module": "@jupyter-widgets/base",
            "_view_module_version": "1.2.0",
            "_view_name": "StyleView",
            "bar_color": null,
            "description_width": ""
          }
        },
        "55acedefe4fc492ca0332e4956050eb4": {
          "model_module": "@jupyter-widgets/base",
          "model_name": "LayoutModel",
          "model_module_version": "1.2.0",
          "state": {
            "_model_module": "@jupyter-widgets/base",
            "_model_module_version": "1.2.0",
            "_model_name": "LayoutModel",
            "_view_count": null,
            "_view_module": "@jupyter-widgets/base",
            "_view_module_version": "1.2.0",
            "_view_name": "LayoutView",
            "align_content": null,
            "align_items": null,
            "align_self": null,
            "border": null,
            "bottom": null,
            "display": null,
            "flex": null,
            "flex_flow": null,
            "grid_area": null,
            "grid_auto_columns": null,
            "grid_auto_flow": null,
            "grid_auto_rows": null,
            "grid_column": null,
            "grid_gap": null,
            "grid_row": null,
            "grid_template_areas": null,
            "grid_template_columns": null,
            "grid_template_rows": null,
            "height": null,
            "justify_content": null,
            "justify_items": null,
            "left": null,
            "margin": null,
            "max_height": null,
            "max_width": null,
            "min_height": null,
            "min_width": null,
            "object_fit": null,
            "object_position": null,
            "order": null,
            "overflow": null,
            "overflow_x": null,
            "overflow_y": null,
            "padding": null,
            "right": null,
            "top": null,
            "visibility": null,
            "width": null
          }
        },
        "7b0a34102feb46b7a0b229ca9a3385cd": {
          "model_module": "@jupyter-widgets/controls",
          "model_name": "DescriptionStyleModel",
          "model_module_version": "1.5.0",
          "state": {
            "_model_module": "@jupyter-widgets/controls",
            "_model_module_version": "1.5.0",
            "_model_name": "DescriptionStyleModel",
            "_view_count": null,
            "_view_module": "@jupyter-widgets/base",
            "_view_module_version": "1.2.0",
            "_view_name": "StyleView",
            "description_width": ""
          }
        },
        "486978b14b9d4de48bb2b00a37117749": {
          "model_module": "@jupyter-widgets/controls",
          "model_name": "HBoxModel",
          "model_module_version": "1.5.0",
          "state": {
            "_dom_classes": [],
            "_model_module": "@jupyter-widgets/controls",
            "_model_module_version": "1.5.0",
            "_model_name": "HBoxModel",
            "_view_count": null,
            "_view_module": "@jupyter-widgets/controls",
            "_view_module_version": "1.5.0",
            "_view_name": "HBoxView",
            "box_style": "",
            "children": [
              "IPY_MODEL_47d6b5af8e924c46a27269f91516ea76",
              "IPY_MODEL_ab7a8d2d2b8942b69421e8e2cbdf9cd7",
              "IPY_MODEL_0cfe38cd21994ea99296c5c58c548efb"
            ],
            "layout": "IPY_MODEL_56cc87aa70f64644abd109bdcfc5a6ce"
          }
        },
        "47d6b5af8e924c46a27269f91516ea76": {
          "model_module": "@jupyter-widgets/controls",
          "model_name": "HTMLModel",
          "model_module_version": "1.5.0",
          "state": {
            "_dom_classes": [],
            "_model_module": "@jupyter-widgets/controls",
            "_model_module_version": "1.5.0",
            "_model_name": "HTMLModel",
            "_view_count": null,
            "_view_module": "@jupyter-widgets/controls",
            "_view_module_version": "1.5.0",
            "_view_name": "HTMLView",
            "description": "",
            "description_tooltip": null,
            "layout": "IPY_MODEL_c8e8d3ea2ff14121b5b45118b813245a",
            "placeholder": "​",
            "style": "IPY_MODEL_4422ba1e4e1b46758f009565d010f356",
            "value": "tokenizer.json: 100%"
          }
        },
        "ab7a8d2d2b8942b69421e8e2cbdf9cd7": {
          "model_module": "@jupyter-widgets/controls",
          "model_name": "FloatProgressModel",
          "model_module_version": "1.5.0",
          "state": {
            "_dom_classes": [],
            "_model_module": "@jupyter-widgets/controls",
            "_model_module_version": "1.5.0",
            "_model_name": "FloatProgressModel",
            "_view_count": null,
            "_view_module": "@jupyter-widgets/controls",
            "_view_module_version": "1.5.0",
            "_view_name": "ProgressView",
            "bar_style": "success",
            "description": "",
            "description_tooltip": null,
            "layout": "IPY_MODEL_cb7f954bcced41c8bb743fbf26823c75",
            "max": 466062,
            "min": 0,
            "orientation": "horizontal",
            "style": "IPY_MODEL_3e36f38bde864539a53e38af4d4af8ce",
            "value": 466062
          }
        },
        "0cfe38cd21994ea99296c5c58c548efb": {
          "model_module": "@jupyter-widgets/controls",
          "model_name": "HTMLModel",
          "model_module_version": "1.5.0",
          "state": {
            "_dom_classes": [],
            "_model_module": "@jupyter-widgets/controls",
            "_model_module_version": "1.5.0",
            "_model_name": "HTMLModel",
            "_view_count": null,
            "_view_module": "@jupyter-widgets/controls",
            "_view_module_version": "1.5.0",
            "_view_name": "HTMLView",
            "description": "",
            "description_tooltip": null,
            "layout": "IPY_MODEL_77e9a5bfeb9a4eb081ac63432f1223fe",
            "placeholder": "​",
            "style": "IPY_MODEL_e8bf9acbfcf54f8baa86f83d22f572cd",
            "value": " 466k/466k [00:01&lt;00:00, 443kB/s]"
          }
        },
        "56cc87aa70f64644abd109bdcfc5a6ce": {
          "model_module": "@jupyter-widgets/base",
          "model_name": "LayoutModel",
          "model_module_version": "1.2.0",
          "state": {
            "_model_module": "@jupyter-widgets/base",
            "_model_module_version": "1.2.0",
            "_model_name": "LayoutModel",
            "_view_count": null,
            "_view_module": "@jupyter-widgets/base",
            "_view_module_version": "1.2.0",
            "_view_name": "LayoutView",
            "align_content": null,
            "align_items": null,
            "align_self": null,
            "border": null,
            "bottom": null,
            "display": null,
            "flex": null,
            "flex_flow": null,
            "grid_area": null,
            "grid_auto_columns": null,
            "grid_auto_flow": null,
            "grid_auto_rows": null,
            "grid_column": null,
            "grid_gap": null,
            "grid_row": null,
            "grid_template_areas": null,
            "grid_template_columns": null,
            "grid_template_rows": null,
            "height": null,
            "justify_content": null,
            "justify_items": null,
            "left": null,
            "margin": null,
            "max_height": null,
            "max_width": null,
            "min_height": null,
            "min_width": null,
            "object_fit": null,
            "object_position": null,
            "order": null,
            "overflow": null,
            "overflow_x": null,
            "overflow_y": null,
            "padding": null,
            "right": null,
            "top": null,
            "visibility": null,
            "width": null
          }
        },
        "c8e8d3ea2ff14121b5b45118b813245a": {
          "model_module": "@jupyter-widgets/base",
          "model_name": "LayoutModel",
          "model_module_version": "1.2.0",
          "state": {
            "_model_module": "@jupyter-widgets/base",
            "_model_module_version": "1.2.0",
            "_model_name": "LayoutModel",
            "_view_count": null,
            "_view_module": "@jupyter-widgets/base",
            "_view_module_version": "1.2.0",
            "_view_name": "LayoutView",
            "align_content": null,
            "align_items": null,
            "align_self": null,
            "border": null,
            "bottom": null,
            "display": null,
            "flex": null,
            "flex_flow": null,
            "grid_area": null,
            "grid_auto_columns": null,
            "grid_auto_flow": null,
            "grid_auto_rows": null,
            "grid_column": null,
            "grid_gap": null,
            "grid_row": null,
            "grid_template_areas": null,
            "grid_template_columns": null,
            "grid_template_rows": null,
            "height": null,
            "justify_content": null,
            "justify_items": null,
            "left": null,
            "margin": null,
            "max_height": null,
            "max_width": null,
            "min_height": null,
            "min_width": null,
            "object_fit": null,
            "object_position": null,
            "order": null,
            "overflow": null,
            "overflow_x": null,
            "overflow_y": null,
            "padding": null,
            "right": null,
            "top": null,
            "visibility": null,
            "width": null
          }
        },
        "4422ba1e4e1b46758f009565d010f356": {
          "model_module": "@jupyter-widgets/controls",
          "model_name": "DescriptionStyleModel",
          "model_module_version": "1.5.0",
          "state": {
            "_model_module": "@jupyter-widgets/controls",
            "_model_module_version": "1.5.0",
            "_model_name": "DescriptionStyleModel",
            "_view_count": null,
            "_view_module": "@jupyter-widgets/base",
            "_view_module_version": "1.2.0",
            "_view_name": "StyleView",
            "description_width": ""
          }
        },
        "cb7f954bcced41c8bb743fbf26823c75": {
          "model_module": "@jupyter-widgets/base",
          "model_name": "LayoutModel",
          "model_module_version": "1.2.0",
          "state": {
            "_model_module": "@jupyter-widgets/base",
            "_model_module_version": "1.2.0",
            "_model_name": "LayoutModel",
            "_view_count": null,
            "_view_module": "@jupyter-widgets/base",
            "_view_module_version": "1.2.0",
            "_view_name": "LayoutView",
            "align_content": null,
            "align_items": null,
            "align_self": null,
            "border": null,
            "bottom": null,
            "display": null,
            "flex": null,
            "flex_flow": null,
            "grid_area": null,
            "grid_auto_columns": null,
            "grid_auto_flow": null,
            "grid_auto_rows": null,
            "grid_column": null,
            "grid_gap": null,
            "grid_row": null,
            "grid_template_areas": null,
            "grid_template_columns": null,
            "grid_template_rows": null,
            "height": null,
            "justify_content": null,
            "justify_items": null,
            "left": null,
            "margin": null,
            "max_height": null,
            "max_width": null,
            "min_height": null,
            "min_width": null,
            "object_fit": null,
            "object_position": null,
            "order": null,
            "overflow": null,
            "overflow_x": null,
            "overflow_y": null,
            "padding": null,
            "right": null,
            "top": null,
            "visibility": null,
            "width": null
          }
        },
        "3e36f38bde864539a53e38af4d4af8ce": {
          "model_module": "@jupyter-widgets/controls",
          "model_name": "ProgressStyleModel",
          "model_module_version": "1.5.0",
          "state": {
            "_model_module": "@jupyter-widgets/controls",
            "_model_module_version": "1.5.0",
            "_model_name": "ProgressStyleModel",
            "_view_count": null,
            "_view_module": "@jupyter-widgets/base",
            "_view_module_version": "1.2.0",
            "_view_name": "StyleView",
            "bar_color": null,
            "description_width": ""
          }
        },
        "77e9a5bfeb9a4eb081ac63432f1223fe": {
          "model_module": "@jupyter-widgets/base",
          "model_name": "LayoutModel",
          "model_module_version": "1.2.0",
          "state": {
            "_model_module": "@jupyter-widgets/base",
            "_model_module_version": "1.2.0",
            "_model_name": "LayoutModel",
            "_view_count": null,
            "_view_module": "@jupyter-widgets/base",
            "_view_module_version": "1.2.0",
            "_view_name": "LayoutView",
            "align_content": null,
            "align_items": null,
            "align_self": null,
            "border": null,
            "bottom": null,
            "display": null,
            "flex": null,
            "flex_flow": null,
            "grid_area": null,
            "grid_auto_columns": null,
            "grid_auto_flow": null,
            "grid_auto_rows": null,
            "grid_column": null,
            "grid_gap": null,
            "grid_row": null,
            "grid_template_areas": null,
            "grid_template_columns": null,
            "grid_template_rows": null,
            "height": null,
            "justify_content": null,
            "justify_items": null,
            "left": null,
            "margin": null,
            "max_height": null,
            "max_width": null,
            "min_height": null,
            "min_width": null,
            "object_fit": null,
            "object_position": null,
            "order": null,
            "overflow": null,
            "overflow_x": null,
            "overflow_y": null,
            "padding": null,
            "right": null,
            "top": null,
            "visibility": null,
            "width": null
          }
        },
        "e8bf9acbfcf54f8baa86f83d22f572cd": {
          "model_module": "@jupyter-widgets/controls",
          "model_name": "DescriptionStyleModel",
          "model_module_version": "1.5.0",
          "state": {
            "_model_module": "@jupyter-widgets/controls",
            "_model_module_version": "1.5.0",
            "_model_name": "DescriptionStyleModel",
            "_view_count": null,
            "_view_module": "@jupyter-widgets/base",
            "_view_module_version": "1.2.0",
            "_view_name": "StyleView",
            "description_width": ""
          }
        },
        "740d6749957c4b1a83ad03ca283ff94b": {
          "model_module": "@jupyter-widgets/controls",
          "model_name": "HBoxModel",
          "model_module_version": "1.5.0",
          "state": {
            "_dom_classes": [],
            "_model_module": "@jupyter-widgets/controls",
            "_model_module_version": "1.5.0",
            "_model_name": "HBoxModel",
            "_view_count": null,
            "_view_module": "@jupyter-widgets/controls",
            "_view_module_version": "1.5.0",
            "_view_name": "HBoxView",
            "box_style": "",
            "children": [
              "IPY_MODEL_06b012242ac84811b2490f1f44d8d70a",
              "IPY_MODEL_7bfbd99045bb49bd91ec48f2e5edbabb",
              "IPY_MODEL_0aa09f2f080146b38d234922874d9142"
            ],
            "layout": "IPY_MODEL_9490efcbbfeb46fb99cbede761e09a30"
          }
        },
        "06b012242ac84811b2490f1f44d8d70a": {
          "model_module": "@jupyter-widgets/controls",
          "model_name": "HTMLModel",
          "model_module_version": "1.5.0",
          "state": {
            "_dom_classes": [],
            "_model_module": "@jupyter-widgets/controls",
            "_model_module_version": "1.5.0",
            "_model_name": "HTMLModel",
            "_view_count": null,
            "_view_module": "@jupyter-widgets/controls",
            "_view_module_version": "1.5.0",
            "_view_name": "HTMLView",
            "description": "",
            "description_tooltip": null,
            "layout": "IPY_MODEL_5e4768d65f8540fc847f713431119b3e",
            "placeholder": "​",
            "style": "IPY_MODEL_bab3e1bb1c5d462e951e2b572691ac04",
            "value": "model.safetensors: 100%"
          }
        },
        "7bfbd99045bb49bd91ec48f2e5edbabb": {
          "model_module": "@jupyter-widgets/controls",
          "model_name": "FloatProgressModel",
          "model_module_version": "1.5.0",
          "state": {
            "_dom_classes": [],
            "_model_module": "@jupyter-widgets/controls",
            "_model_module_version": "1.5.0",
            "_model_name": "FloatProgressModel",
            "_view_count": null,
            "_view_module": "@jupyter-widgets/controls",
            "_view_module_version": "1.5.0",
            "_view_name": "ProgressView",
            "bar_style": "success",
            "description": "",
            "description_tooltip": null,
            "layout": "IPY_MODEL_b37e38dabcf64a0da7b0fcadff28d94d",
            "max": 440449768,
            "min": 0,
            "orientation": "horizontal",
            "style": "IPY_MODEL_e1477d8fd46940469a14c15840c061a1",
            "value": 440449768
          }
        },
        "0aa09f2f080146b38d234922874d9142": {
          "model_module": "@jupyter-widgets/controls",
          "model_name": "HTMLModel",
          "model_module_version": "1.5.0",
          "state": {
            "_dom_classes": [],
            "_model_module": "@jupyter-widgets/controls",
            "_model_module_version": "1.5.0",
            "_model_name": "HTMLModel",
            "_view_count": null,
            "_view_module": "@jupyter-widgets/controls",
            "_view_module_version": "1.5.0",
            "_view_name": "HTMLView",
            "description": "",
            "description_tooltip": null,
            "layout": "IPY_MODEL_bc952d088e1a457ebbabd30968840f2e",
            "placeholder": "​",
            "style": "IPY_MODEL_796c974bccf94f23a2de5c503f55efa2",
            "value": " 440M/440M [00:01&lt;00:00, 230MB/s]"
          }
        },
        "9490efcbbfeb46fb99cbede761e09a30": {
          "model_module": "@jupyter-widgets/base",
          "model_name": "LayoutModel",
          "model_module_version": "1.2.0",
          "state": {
            "_model_module": "@jupyter-widgets/base",
            "_model_module_version": "1.2.0",
            "_model_name": "LayoutModel",
            "_view_count": null,
            "_view_module": "@jupyter-widgets/base",
            "_view_module_version": "1.2.0",
            "_view_name": "LayoutView",
            "align_content": null,
            "align_items": null,
            "align_self": null,
            "border": null,
            "bottom": null,
            "display": null,
            "flex": null,
            "flex_flow": null,
            "grid_area": null,
            "grid_auto_columns": null,
            "grid_auto_flow": null,
            "grid_auto_rows": null,
            "grid_column": null,
            "grid_gap": null,
            "grid_row": null,
            "grid_template_areas": null,
            "grid_template_columns": null,
            "grid_template_rows": null,
            "height": null,
            "justify_content": null,
            "justify_items": null,
            "left": null,
            "margin": null,
            "max_height": null,
            "max_width": null,
            "min_height": null,
            "min_width": null,
            "object_fit": null,
            "object_position": null,
            "order": null,
            "overflow": null,
            "overflow_x": null,
            "overflow_y": null,
            "padding": null,
            "right": null,
            "top": null,
            "visibility": null,
            "width": null
          }
        },
        "5e4768d65f8540fc847f713431119b3e": {
          "model_module": "@jupyter-widgets/base",
          "model_name": "LayoutModel",
          "model_module_version": "1.2.0",
          "state": {
            "_model_module": "@jupyter-widgets/base",
            "_model_module_version": "1.2.0",
            "_model_name": "LayoutModel",
            "_view_count": null,
            "_view_module": "@jupyter-widgets/base",
            "_view_module_version": "1.2.0",
            "_view_name": "LayoutView",
            "align_content": null,
            "align_items": null,
            "align_self": null,
            "border": null,
            "bottom": null,
            "display": null,
            "flex": null,
            "flex_flow": null,
            "grid_area": null,
            "grid_auto_columns": null,
            "grid_auto_flow": null,
            "grid_auto_rows": null,
            "grid_column": null,
            "grid_gap": null,
            "grid_row": null,
            "grid_template_areas": null,
            "grid_template_columns": null,
            "grid_template_rows": null,
            "height": null,
            "justify_content": null,
            "justify_items": null,
            "left": null,
            "margin": null,
            "max_height": null,
            "max_width": null,
            "min_height": null,
            "min_width": null,
            "object_fit": null,
            "object_position": null,
            "order": null,
            "overflow": null,
            "overflow_x": null,
            "overflow_y": null,
            "padding": null,
            "right": null,
            "top": null,
            "visibility": null,
            "width": null
          }
        },
        "bab3e1bb1c5d462e951e2b572691ac04": {
          "model_module": "@jupyter-widgets/controls",
          "model_name": "DescriptionStyleModel",
          "model_module_version": "1.5.0",
          "state": {
            "_model_module": "@jupyter-widgets/controls",
            "_model_module_version": "1.5.0",
            "_model_name": "DescriptionStyleModel",
            "_view_count": null,
            "_view_module": "@jupyter-widgets/base",
            "_view_module_version": "1.2.0",
            "_view_name": "StyleView",
            "description_width": ""
          }
        },
        "b37e38dabcf64a0da7b0fcadff28d94d": {
          "model_module": "@jupyter-widgets/base",
          "model_name": "LayoutModel",
          "model_module_version": "1.2.0",
          "state": {
            "_model_module": "@jupyter-widgets/base",
            "_model_module_version": "1.2.0",
            "_model_name": "LayoutModel",
            "_view_count": null,
            "_view_module": "@jupyter-widgets/base",
            "_view_module_version": "1.2.0",
            "_view_name": "LayoutView",
            "align_content": null,
            "align_items": null,
            "align_self": null,
            "border": null,
            "bottom": null,
            "display": null,
            "flex": null,
            "flex_flow": null,
            "grid_area": null,
            "grid_auto_columns": null,
            "grid_auto_flow": null,
            "grid_auto_rows": null,
            "grid_column": null,
            "grid_gap": null,
            "grid_row": null,
            "grid_template_areas": null,
            "grid_template_columns": null,
            "grid_template_rows": null,
            "height": null,
            "justify_content": null,
            "justify_items": null,
            "left": null,
            "margin": null,
            "max_height": null,
            "max_width": null,
            "min_height": null,
            "min_width": null,
            "object_fit": null,
            "object_position": null,
            "order": null,
            "overflow": null,
            "overflow_x": null,
            "overflow_y": null,
            "padding": null,
            "right": null,
            "top": null,
            "visibility": null,
            "width": null
          }
        },
        "e1477d8fd46940469a14c15840c061a1": {
          "model_module": "@jupyter-widgets/controls",
          "model_name": "ProgressStyleModel",
          "model_module_version": "1.5.0",
          "state": {
            "_model_module": "@jupyter-widgets/controls",
            "_model_module_version": "1.5.0",
            "_model_name": "ProgressStyleModel",
            "_view_count": null,
            "_view_module": "@jupyter-widgets/base",
            "_view_module_version": "1.2.0",
            "_view_name": "StyleView",
            "bar_color": null,
            "description_width": ""
          }
        },
        "bc952d088e1a457ebbabd30968840f2e": {
          "model_module": "@jupyter-widgets/base",
          "model_name": "LayoutModel",
          "model_module_version": "1.2.0",
          "state": {
            "_model_module": "@jupyter-widgets/base",
            "_model_module_version": "1.2.0",
            "_model_name": "LayoutModel",
            "_view_count": null,
            "_view_module": "@jupyter-widgets/base",
            "_view_module_version": "1.2.0",
            "_view_name": "LayoutView",
            "align_content": null,
            "align_items": null,
            "align_self": null,
            "border": null,
            "bottom": null,
            "display": null,
            "flex": null,
            "flex_flow": null,
            "grid_area": null,
            "grid_auto_columns": null,
            "grid_auto_flow": null,
            "grid_auto_rows": null,
            "grid_column": null,
            "grid_gap": null,
            "grid_row": null,
            "grid_template_areas": null,
            "grid_template_columns": null,
            "grid_template_rows": null,
            "height": null,
            "justify_content": null,
            "justify_items": null,
            "left": null,
            "margin": null,
            "max_height": null,
            "max_width": null,
            "min_height": null,
            "min_width": null,
            "object_fit": null,
            "object_position": null,
            "order": null,
            "overflow": null,
            "overflow_x": null,
            "overflow_y": null,
            "padding": null,
            "right": null,
            "top": null,
            "visibility": null,
            "width": null
          }
        },
        "796c974bccf94f23a2de5c503f55efa2": {
          "model_module": "@jupyter-widgets/controls",
          "model_name": "DescriptionStyleModel",
          "model_module_version": "1.5.0",
          "state": {
            "_model_module": "@jupyter-widgets/controls",
            "_model_module_version": "1.5.0",
            "_model_name": "DescriptionStyleModel",
            "_view_count": null,
            "_view_module": "@jupyter-widgets/base",
            "_view_module_version": "1.2.0",
            "_view_name": "StyleView",
            "description_width": ""
          }
        }
      }
    }
  },
  "cells": [
    {
      "cell_type": "markdown",
      "metadata": {
        "id": "view-in-github",
        "colab_type": "text"
      },
      "source": [
        "<a href=\"https://colab.research.google.com/github/GerardoMunoz/road/blob/main/cars_cnn_v2.ipynb\" target=\"_parent\"><img src=\"https://colab.research.google.com/assets/colab-badge.svg\" alt=\"Open In Colab\"/></a>"
      ]
    },
    {
      "cell_type": "code",
      "source": [
        "img_path='/content/images_road'"
      ],
      "metadata": {
        "id": "-wcnJ6lcsFef"
      },
      "execution_count": 1,
      "outputs": []
    },
    {
      "cell_type": "code",
      "source": [
        "# prompt: Dounload and unzip url zip file\n",
        "\n",
        "import requests\n",
        "import zipfile\n",
        "import io\n",
        "\n",
        "url='https://github.com/GerardoMunoz/road/raw/refs/heads/main/dataset/cityscapes.zip'\n",
        "\n",
        "try:\n",
        "  response = requests.get(url, stream=True)\n",
        "  response.raise_for_status()  # Raise an exception for bad status codes\n",
        "\n",
        "  z = zipfile.ZipFile(io.BytesIO(response.content))\n",
        "  z.extractall(img_path)\n",
        "  print(\"Files extracted successfully.\")\n",
        "\n",
        "except requests.exceptions.RequestException as e:\n",
        "  print(f\"An error occurred during download: {e}\")\n",
        "\n",
        "except zipfile.BadZipFile:\n",
        "  print(f\"Invalid zip file.\")\n",
        "\n",
        "except Exception as e:\n",
        "  print(f\"An unexpected error occurred: {e}\")\n"
      ],
      "metadata": {
        "id": "bCnUTSJ-8QsQ",
        "colab": {
          "base_uri": "https://localhost:8080/"
        },
        "outputId": "dc804bbc-6f53-4016-a8eb-4e38fb3bef9c"
      },
      "execution_count": 2,
      "outputs": [
        {
          "output_type": "stream",
          "name": "stdout",
          "text": [
            "Files extracted successfully.\n"
          ]
        }
      ]
    },
    {
      "cell_type": "code",
      "source": [],
      "metadata": {
        "id": "3qa1zO3W8Qlq"
      },
      "execution_count": 2,
      "outputs": []
    },
    {
      "cell_type": "code",
      "source": [
        "%cd '/content'\n",
        "!pwd"
      ],
      "metadata": {
        "colab": {
          "base_uri": "https://localhost:8080/"
        },
        "id": "GwqjyDBL-HtO",
        "outputId": "1d8d1364-f565-4ff3-c9b8-7ef4f0cf2284"
      },
      "execution_count": 3,
      "outputs": [
        {
          "output_type": "stream",
          "name": "stdout",
          "text": [
            "/content\n",
            "/content\n"
          ]
        }
      ]
    },
    {
      "cell_type": "code",
      "source": [
        "!git clone https://github.com/IDEA-Research/GroundingDINO.git\n",
        "%cd GroundingDINO/\n",
        "!pip install -q -e ."
      ],
      "metadata": {
        "colab": {
          "base_uri": "https://localhost:8080/"
        },
        "id": "617z067v4L3X",
        "outputId": "2f63454e-8efe-42b4-a73e-f3130a2d9f3c"
      },
      "execution_count": 4,
      "outputs": [
        {
          "output_type": "stream",
          "name": "stdout",
          "text": [
            "Cloning into 'GroundingDINO'...\n",
            "remote: Enumerating objects: 463, done.\u001b[K\n",
            "remote: Counting objects: 100% (240/240), done.\u001b[K\n",
            "remote: Compressing objects: 100% (105/105), done.\u001b[K\n",
            "remote: Total 463 (delta 175), reused 135 (delta 135), pack-reused 223 (from 1)\u001b[K\n",
            "Receiving objects: 100% (463/463), 12.87 MiB | 17.96 MiB/s, done.\n",
            "Resolving deltas: 100% (241/241), done.\n",
            "/content/GroundingDINO\n",
            "  Preparing metadata (setup.py) ... \u001b[?25l\u001b[?25hdone\n",
            "\u001b[2K     \u001b[90m━━━━━━━━━━━━━━━━━━━━━━━━━━━━━━━━━━━━━━━━\u001b[0m \u001b[32m46.8/46.8 kB\u001b[0m \u001b[31m3.5 MB/s\u001b[0m eta \u001b[36m0:00:00\u001b[0m\n",
            "\u001b[2K   \u001b[90m━━━━━━━━━━━━━━━━━━━━━━━━━━━━━━━━━━━━━━━━\u001b[0m \u001b[32m181.5/181.5 kB\u001b[0m \u001b[31m18.3 MB/s\u001b[0m eta \u001b[36m0:00:00\u001b[0m\n",
            "\u001b[2K   \u001b[90m━━━━━━━━━━━━━━━━━━━━━━━━━━━━━━━━━━━━━━━━\u001b[0m \u001b[32m256.2/256.2 kB\u001b[0m \u001b[31m22.5 MB/s\u001b[0m eta \u001b[36m0:00:00\u001b[0m\n",
            "\u001b[?25h"
          ]
        }
      ]
    },
    {
      "cell_type": "code",
      "source": [
        "%cd '/content'\n",
        "!mkdir weights\n",
        "!wget -q https://github.com/IDEA-Research/GroundingDINO/releases/download/v0.1.0-alpha/groundingdino_swint_ogc.pth -P weights\n",
        "!pwd"
      ],
      "metadata": {
        "id": "aymM_H5R-av5",
        "colab": {
          "base_uri": "https://localhost:8080/"
        },
        "outputId": "b118b8b5-35c4-49c3-cbe1-08b011ec709e"
      },
      "execution_count": 5,
      "outputs": [
        {
          "output_type": "stream",
          "name": "stdout",
          "text": [
            "/content\n",
            "/content\n"
          ]
        }
      ]
    },
    {
      "cell_type": "code",
      "source": [],
      "metadata": {
        "id": "gZFAILIq_o0U"
      },
      "execution_count": 5,
      "outputs": []
    },
    {
      "cell_type": "code",
      "source": [
        "!pip install supervision"
      ],
      "metadata": {
        "id": "PKk9npFd_p4P",
        "colab": {
          "base_uri": "https://localhost:8080/"
        },
        "outputId": "f63dc9a4-9f71-4b26-b628-3eea09b9def2"
      },
      "execution_count": 6,
      "outputs": [
        {
          "output_type": "stream",
          "name": "stdout",
          "text": [
            "Requirement already satisfied: supervision in /usr/local/lib/python3.10/dist-packages (0.25.0)\n",
            "Requirement already satisfied: contourpy>=1.0.7 in /usr/local/lib/python3.10/dist-packages (from supervision) (1.3.1)\n",
            "Requirement already satisfied: defusedxml<0.8.0,>=0.7.1 in /usr/local/lib/python3.10/dist-packages (from supervision) (0.7.1)\n",
            "Requirement already satisfied: matplotlib>=3.6.0 in /usr/local/lib/python3.10/dist-packages (from supervision) (3.8.0)\n",
            "Requirement already satisfied: numpy>=1.23.3 in /usr/local/lib/python3.10/dist-packages (from supervision) (1.26.4)\n",
            "Requirement already satisfied: opencv-python>=4.5.5.64 in /usr/local/lib/python3.10/dist-packages (from supervision) (4.10.0.84)\n",
            "Requirement already satisfied: pillow>=9.4 in /usr/local/lib/python3.10/dist-packages (from supervision) (11.0.0)\n",
            "Requirement already satisfied: pyyaml>=5.3 in /usr/local/lib/python3.10/dist-packages (from supervision) (6.0.2)\n",
            "Requirement already satisfied: scipy<2.0.0,>=1.10.0 in /usr/local/lib/python3.10/dist-packages (from supervision) (1.13.1)\n",
            "Requirement already satisfied: cycler>=0.10 in /usr/local/lib/python3.10/dist-packages (from matplotlib>=3.6.0->supervision) (0.12.1)\n",
            "Requirement already satisfied: fonttools>=4.22.0 in /usr/local/lib/python3.10/dist-packages (from matplotlib>=3.6.0->supervision) (4.55.0)\n",
            "Requirement already satisfied: kiwisolver>=1.0.1 in /usr/local/lib/python3.10/dist-packages (from matplotlib>=3.6.0->supervision) (1.4.7)\n",
            "Requirement already satisfied: packaging>=20.0 in /usr/local/lib/python3.10/dist-packages (from matplotlib>=3.6.0->supervision) (24.2)\n",
            "Requirement already satisfied: pyparsing>=2.3.1 in /usr/local/lib/python3.10/dist-packages (from matplotlib>=3.6.0->supervision) (3.2.0)\n",
            "Requirement already satisfied: python-dateutil>=2.7 in /usr/local/lib/python3.10/dist-packages (from matplotlib>=3.6.0->supervision) (2.8.2)\n",
            "Requirement already satisfied: six>=1.5 in /usr/local/lib/python3.10/dist-packages (from python-dateutil>=2.7->matplotlib>=3.6.0->supervision) (1.16.0)\n"
          ]
        }
      ]
    },
    {
      "cell_type": "markdown",
      "source": [
        "* Entorno de ejecución -> Reiniciar sesión\n",
        "* Entorno de ejecución -> Ejecutar celda y las de abajo"
      ],
      "metadata": {
        "id": "97e38c9TEJ_f"
      }
    },
    {
      "cell_type": "code",
      "source": [],
      "metadata": {
        "id": "FclB5OuiEJH4"
      },
      "execution_count": 6,
      "outputs": []
    },
    {
      "cell_type": "code",
      "source": [
        "from groundingdino.util.inference import load_model, load_image, predict, annotate\n",
        "\n",
        "model = load_model(\"/content/GroundingDINO/groundingdino/config/GroundingDINO_SwinT_OGC.py\",\n",
        "     \"weights/groundingdino_swint_ogc.pth\")"
      ],
      "metadata": {
        "id": "Pj6muNTw8XkO",
        "colab": {
          "base_uri": "https://localhost:8080/",
          "height": 353,
          "referenced_widgets": [
            "c1f61367b4d64dc2a6de161d995566ec",
            "eb6373fb2d754dd995515ac6ef81f63b",
            "baa59338b96a482a82250a08acdf420d",
            "20a4f80aaa3f4f9b9f6b3da9b81131d6",
            "e7efb80a266548b9bc1b6323d2a6194d",
            "95eb0444d4334fa692454b104f8dd1e3",
            "14b5db512ae14584a6a611e633fe2f9e",
            "5cf3a3e44e384e9a82073793ca741e6d",
            "873a9ba126524298af7f759509453fa0",
            "a9ab7ce3f9bb4f2bb903bbd7ec75cb68",
            "3abb040f9d05447bafb4b255cb99dacf",
            "6cc038a478674d47bacc6f2c00352cbb",
            "c9fc4a2c756844ef9b623fb17af47b14",
            "63d4e1b3ccab4373819a9be1cf8f0dee",
            "8f2f9493d1c245fb8d1d0718870712f6",
            "b0940e25fdea4812beffab3f4a5510a8",
            "b6a96c928d9a4e67aafed5eaeb508a46",
            "4f88e3fbc24b4ffcb1d5a19bdfa3291e",
            "f6969bf197dd40e49fc8a9b4ef70c530",
            "2ee21f51acbf42f49e7c7a494149dc7d",
            "e2ed02cd44e14229b151ea3044f22edf",
            "74d54a4f4e6f4c908db1ccf817346bba",
            "8cb93f40cec640a4952d64cab93f1032",
            "1bcd4f2c3f4243898bccb6fa718ab02c",
            "cdebc050d4e64649acb46bff47edf7f6",
            "67507e7fb9764596a480e5ae8f63bca4",
            "9e8354083e5e4643aaba48ca14ec2933",
            "f236201cf9204d22aa9f3f52cf24245d",
            "6514df3c5b3f478db8f5dc44b86b24b4",
            "830dacc30ab143bca929d81763ec04ca",
            "e9ff6e47b849429b803cbe112fabeba9",
            "55acedefe4fc492ca0332e4956050eb4",
            "7b0a34102feb46b7a0b229ca9a3385cd",
            "486978b14b9d4de48bb2b00a37117749",
            "47d6b5af8e924c46a27269f91516ea76",
            "ab7a8d2d2b8942b69421e8e2cbdf9cd7",
            "0cfe38cd21994ea99296c5c58c548efb",
            "56cc87aa70f64644abd109bdcfc5a6ce",
            "c8e8d3ea2ff14121b5b45118b813245a",
            "4422ba1e4e1b46758f009565d010f356",
            "cb7f954bcced41c8bb743fbf26823c75",
            "3e36f38bde864539a53e38af4d4af8ce",
            "77e9a5bfeb9a4eb081ac63432f1223fe",
            "e8bf9acbfcf54f8baa86f83d22f572cd",
            "740d6749957c4b1a83ad03ca283ff94b",
            "06b012242ac84811b2490f1f44d8d70a",
            "7bfbd99045bb49bd91ec48f2e5edbabb",
            "0aa09f2f080146b38d234922874d9142",
            "9490efcbbfeb46fb99cbede761e09a30",
            "5e4768d65f8540fc847f713431119b3e",
            "bab3e1bb1c5d462e951e2b572691ac04",
            "b37e38dabcf64a0da7b0fcadff28d94d",
            "e1477d8fd46940469a14c15840c061a1",
            "bc952d088e1a457ebbabd30968840f2e",
            "796c974bccf94f23a2de5c503f55efa2"
          ]
        },
        "outputId": "557cdbb6-854f-4aad-b3e4-8e6f63750e7f"
      },
      "execution_count": 1,
      "outputs": [
        {
          "output_type": "stream",
          "name": "stderr",
          "text": [
            "FutureWarning: Importing from timm.models.layers is deprecated, please import via timm.layers\n",
            "UserWarning: torch.meshgrid: in an upcoming release, it will be required to pass the indexing argument. (Triggered internally at ../aten/src/ATen/native/TensorShape.cpp:3595.)\n"
          ]
        },
        {
          "output_type": "stream",
          "name": "stdout",
          "text": [
            "final text_encoder_type: bert-base-uncased\n"
          ]
        },
        {
          "output_type": "stream",
          "name": "stderr",
          "text": [
            "UserWarning: \n",
            "The secret `HF_TOKEN` does not exist in your Colab secrets.\n",
            "To authenticate with the Hugging Face Hub, create a token in your settings tab (https://huggingface.co/settings/tokens), set it as secret in your Google Colab and restart your session.\n",
            "You will be able to reuse this secret in all of your notebooks.\n",
            "Please note that authentication is recommended but still optional to access public models or datasets.\n"
          ]
        },
        {
          "output_type": "display_data",
          "data": {
            "text/plain": [
              "tokenizer_config.json:   0%|          | 0.00/48.0 [00:00<?, ?B/s]"
            ],
            "application/vnd.jupyter.widget-view+json": {
              "version_major": 2,
              "version_minor": 0,
              "model_id": "c1f61367b4d64dc2a6de161d995566ec"
            }
          },
          "metadata": {}
        },
        {
          "output_type": "display_data",
          "data": {
            "text/plain": [
              "config.json:   0%|          | 0.00/570 [00:00<?, ?B/s]"
            ],
            "application/vnd.jupyter.widget-view+json": {
              "version_major": 2,
              "version_minor": 0,
              "model_id": "6cc038a478674d47bacc6f2c00352cbb"
            }
          },
          "metadata": {}
        },
        {
          "output_type": "display_data",
          "data": {
            "text/plain": [
              "vocab.txt:   0%|          | 0.00/232k [00:00<?, ?B/s]"
            ],
            "application/vnd.jupyter.widget-view+json": {
              "version_major": 2,
              "version_minor": 0,
              "model_id": "8cb93f40cec640a4952d64cab93f1032"
            }
          },
          "metadata": {}
        },
        {
          "output_type": "display_data",
          "data": {
            "text/plain": [
              "tokenizer.json:   0%|          | 0.00/466k [00:00<?, ?B/s]"
            ],
            "application/vnd.jupyter.widget-view+json": {
              "version_major": 2,
              "version_minor": 0,
              "model_id": "486978b14b9d4de48bb2b00a37117749"
            }
          },
          "metadata": {}
        },
        {
          "output_type": "display_data",
          "data": {
            "text/plain": [
              "model.safetensors:   0%|          | 0.00/440M [00:00<?, ?B/s]"
            ],
            "application/vnd.jupyter.widget-view+json": {
              "version_major": 2,
              "version_minor": 0,
              "model_id": "740d6749957c4b1a83ad03ca283ff94b"
            }
          },
          "metadata": {}
        },
        {
          "output_type": "stream",
          "name": "stderr",
          "text": [
            "FutureWarning: You are using `torch.load` with `weights_only=False` (the current default value), which uses the default pickle module implicitly. It is possible to construct malicious pickle data which will execute arbitrary code during unpickling (See https://github.com/pytorch/pytorch/blob/main/SECURITY.md#untrusted-models for more details). In a future release, the default value for `weights_only` will be flipped to `True`. This limits the functions that could be executed during unpickling. Arbitrary objects will no longer be allowed to be loaded via this mode unless they are explicitly allowlisted by the user via `torch.serialization.add_safe_globals`. We recommend you start setting `weights_only=True` for any use case where you don't have full control of the loaded file. Please open an issue on GitHub for any issues related to this experimental feature.\n"
          ]
        }
      ]
    },
    {
      "cell_type": "code",
      "source": [
        "text='pedestrian, veicle'\n",
        "BOX_THRESHOLD = 0.26\n",
        "TEXT_TRHESHOLD = 0.30\n"
      ],
      "metadata": {
        "id": "jzgFJxcI1T5q"
      },
      "execution_count": 8,
      "outputs": []
    },
    {
      "cell_type": "code",
      "source": [
        "# import os\n",
        "# import supervision as sv\n",
        "# #img_path=\"/content/val2017/000000032901.jpg\"\n",
        "# text=\"road\"#\"T-Shirt Shirt Sweater Hoodie Jacket\"\n",
        "# BOX_THRESHOLD = 0.26\n",
        "# TEXT_TRHESHOLD = 0.30\n",
        "# image_source, image = load_image(img_path)\n",
        "# boxes, logits,  phrases = predict(\n",
        "#     model=model,\n",
        "#     image=image,\n",
        "#     caption=text,\n",
        "#     box_threshold=BOX_THRESHOLD,\n",
        "#     text_threshold=TEXT_TRHESHOLD,\n",
        "#     device='cuda'\n",
        "# )\n",
        "# annotated_frame = annotate(\n",
        "#     image_source=image_source,\n",
        "#     boxes=boxes,\n",
        "#     logits=logits,\n",
        "#     phrases=phrases)\n",
        "\n",
        "# sv.plot_image(annotated_frame,(16,16))"
      ],
      "metadata": {
        "id": "7gy8Qq9r70NZ"
      },
      "execution_count": null,
      "outputs": []
    },
    {
      "cell_type": "code",
      "source": [
        "# boxes, logits,  phrases"
      ],
      "metadata": {
        "id": "mgyM_31zfh0w"
      },
      "execution_count": null,
      "outputs": []
    },
    {
      "cell_type": "markdown",
      "source": [
        "[center_x(cx), center_y(cy),  right_x(rx), top_x(tx)]\n",
        "\n",
        "* left,right,center,top,buttom\n",
        "\n",
        "* cx=(rx+lx)/2\n",
        "* lx=-rx+2cx\n",
        "\n",
        "* cy=(by+ty)/2\n",
        "* by=2cy-ty\n",
        "\n",
        "[lx, ty, rx, by]"
      ],
      "metadata": {
        "id": "nIPW7T2fw2sO"
      }
    },
    {
      "cell_type": "code",
      "source": [
        "code={}\n",
        "\n",
        "def yolo_format(boxes, logits,  phrases, alpha=0.5):\n",
        "    yolo=[]\n",
        "    for box, logit,  phrase in zip(boxes, logits,  phrases):\n",
        "        if logit>alpha:\n",
        "            if phrase not in code:\n",
        "                code[phrase]=len(code)+1\n",
        "            cx,cy,rx,ty=box\n",
        "            lx=-rx+2*cx\n",
        "            by=2*cy-ty\n",
        "            yolo.append([code[phrase],lx,ty,rx-lx,by-ty])\n",
        "    return yolo\n",
        "\n",
        "\n",
        "# boxes_list =yolo_format(boxes, logits,  phrases)\n",
        "# boxes_list"
      ],
      "metadata": {
        "id": "ZJMzJnfPm_M5"
      },
      "execution_count": 9,
      "outputs": []
    },
    {
      "cell_type": "code",
      "source": [
        "# file_path = \"label\"+img_name[:-4]+\".txt\"\n",
        "\n",
        "# # Write the list of tensors to a file\n",
        "# with open(file_path, \"w\") as file:\n",
        "#     for item in boxes_list:\n",
        "#         # Extract the first element (integer) and the tensors\n",
        "#         class_id = item[0]\n",
        "#         tensor_values = [t.item() for t in item[1:]]  # Convert tensors to floats\n",
        "#         # Combine the integer and tensor values into one line\n",
        "#         file.write(f\"{class_id} \" + \" \".join(map(lambda x:f\"{x:.4f}\", tensor_values)) + \"\\n\")\n",
        "\n",
        "# print(f\"File saved at {file_path}\")"
      ],
      "metadata": {
        "id": "QLJ2gbGyfn00"
      },
      "execution_count": 10,
      "outputs": []
    },
    {
      "cell_type": "code",
      "source": [
        "def save_labels(img_path,label_path,show=False):\n",
        "    #file_path = \"label\"+img_name[:-4]+\".txt\"\n",
        "\n",
        "    image_source, image = load_image(img_path)\n",
        "    boxes, logits,  phrases = predict(\n",
        "        model=model,\n",
        "        image=image,\n",
        "        caption=text,\n",
        "        box_threshold=BOX_THRESHOLD,\n",
        "        text_threshold=TEXT_TRHESHOLD,\n",
        "        #device='cuda'\n",
        "    )\n",
        "\n",
        "    if show:\n",
        "        annotated_frame = annotate(\n",
        "            image_source=image_source,\n",
        "            boxes=boxes,\n",
        "            logits=logits,\n",
        "            phrases=phrases)\n",
        "\n",
        "        sv.plot_image(annotated_frame,(16,16))\n",
        "\n",
        "    boxes_list =yolo_format(boxes, logits,  phrases)\n",
        "\n",
        "    # Write the list of tensors to a file\n",
        "    with open(label_path, \"w\") as file:\n",
        "        for item in boxes_list:\n",
        "            # Extract the first element (integer) and the tensors\n",
        "            class_id = item[0]\n",
        "            tensor_values = [t.item() for t in item[1:]]  # Convert tensors to floats\n",
        "            # Combine the integer and tensor values into one line\n",
        "            file.write(f\"{class_id} \" + \" \".join(map(lambda x:f\"{x:.4f}\", tensor_values)) + \"\\n\")\n",
        "    print('.',end=\"\")\n",
        "    #print(f\"File saved at {file_path}\")\n"
      ],
      "metadata": {
        "id": "RskGKnyEklfe"
      },
      "execution_count": 11,
      "outputs": []
    },
    {
      "cell_type": "code",
      "source": [
        "in_path='/content/images_road/'\n",
        "out_path='/content/yolo_labels/'\n",
        "img_name='5'\n",
        "img_path=in_path+img_name+'.jpg'\n",
        "lbl_path=out_path+img_name+'.txt'\n",
        "print(img_path,lbl_path)\n",
        "\n",
        "\n",
        "# save_labels(img_path,lbl_path,show=True)"
      ],
      "metadata": {
        "colab": {
          "base_uri": "https://localhost:8080/"
        },
        "id": "UXuNAcL5nHt2",
        "outputId": "3431bf21-208d-496a-ede2-9e0d0888fb16"
      },
      "execution_count": 12,
      "outputs": [
        {
          "output_type": "stream",
          "name": "stdout",
          "text": [
            "/content/images_road/5.jpg /content/yolo_labels/5.txt\n"
          ]
        }
      ]
    },
    {
      "cell_type": "code",
      "source": [
        "# prompt: salve_labels for all files in in_path\n",
        "\n",
        "import os\n",
        "\n",
        "def salve_labels_for_all_files(in_path, out_path):\n",
        "    for filename in os.listdir(in_path):\n",
        "        if filename.endswith(('.jpg', '.jpeg', '.png')):  # Adjust extensions as needed\n",
        "            img_name = filename[:-4] # remove extension\n",
        "            img_path = os.path.join(in_path, filename)\n",
        "            lbl_path = os.path.join(out_path, img_name + '.txt')\n",
        "            print(img_path, lbl_path)\n",
        "            save_labels(img_path, lbl_path)\n",
        "\n",
        "# Example usage\n",
        "in_path = '/content/images_road/'\n",
        "out_path = '/content/yolo_labels_1/'\n",
        "\n",
        "# Create the output directory if it doesn't exist\n",
        "os.makedirs(out_path, exist_ok=True)\n",
        "\n",
        "salve_labels_for_all_files(in_path, out_path)"
      ],
      "metadata": {
        "colab": {
          "base_uri": "https://localhost:8080/"
        },
        "id": "7aBqeRRppKUR",
        "outputId": "3ccaeb82-0ec8-4e06-801f-1fb8e418eea4"
      },
      "execution_count": null,
      "outputs": [
        {
          "output_type": "stream",
          "name": "stdout",
          "text": [
            "/content/images_road/1926.jpg /content/yolo_labels_1/1926.txt\n"
          ]
        },
        {
          "output_type": "stream",
          "name": "stderr",
          "text": [
            "FutureWarning: The `device` argument is deprecated and will be removed in v5 of Transformers.\n",
            "UserWarning: torch.utils.checkpoint: the use_reentrant parameter should be passed explicitly. In version 2.5 we will raise an exception if use_reentrant is not passed. use_reentrant=False is recommended, but if you need to preserve the current default behavior, you can pass use_reentrant=True. Refer to docs for more details on the differences between the two variants.\n",
            "UserWarning: None of the inputs have requires_grad=True. Gradients will be None\n",
            "FutureWarning: `torch.cuda.amp.autocast(args...)` is deprecated. Please use `torch.amp.autocast('cuda', args...)` instead.\n"
          ]
        },
        {
          "output_type": "stream",
          "name": "stdout",
          "text": [
            "./content/images_road/2157.jpg /content/yolo_labels_1/2157.txt\n",
            "./content/images_road/1329.jpg /content/yolo_labels_1/1329.txt\n",
            "./content/images_road/246.jpg /content/yolo_labels_1/246.txt\n",
            "./content/images_road/2347.jpg /content/yolo_labels_1/2347.txt\n",
            "./content/images_road/465.jpg /content/yolo_labels_1/465.txt\n",
            "./content/images_road/806.jpg /content/yolo_labels_1/806.txt\n",
            "./content/images_road/1615.jpg /content/yolo_labels_1/1615.txt\n",
            "./content/images_road/735.jpg /content/yolo_labels_1/735.txt\n",
            "./content/images_road/518.jpg /content/yolo_labels_1/518.txt\n",
            "./content/images_road/2537.jpg /content/yolo_labels_1/2537.txt\n",
            "./content/images_road/796.jpg /content/yolo_labels_1/796.txt\n",
            "./content/images_road/403.jpg /content/yolo_labels_1/403.txt\n",
            "./content/images_road/2721.jpg /content/yolo_labels_1/2721.txt\n",
            "./content/images_road/2867.jpg /content/yolo_labels_1/2867.txt\n",
            "./content/images_road/2822.jpg /content/yolo_labels_1/2822.txt\n",
            "./content/images_road/846.jpg /content/yolo_labels_1/846.txt\n",
            "./content/images_road/2405.jpg /content/yolo_labels_1/2405.txt\n",
            "./content/images_road/1511.jpg /content/yolo_labels_1/1511.txt\n",
            "./content/images_road/2119.jpg /content/yolo_labels_1/2119.txt\n",
            "./content/images_road/2849.jpg /content/yolo_labels_1/2849.txt\n",
            "./content/images_road/536.jpg /content/yolo_labels_1/536.txt\n",
            "./content/images_road/763.jpg /content/yolo_labels_1/763.txt\n",
            "./content/images_road/144.jpg /content/yolo_labels_1/144.txt\n",
            "./content/images_road/282.jpg /content/yolo_labels_1/282.txt\n",
            "./content/images_road/1303.jpg /content/yolo_labels_1/1303.txt\n",
            "./content/images_road/2598.jpg /content/yolo_labels_1/2598.txt\n",
            "./content/images_road/2123.jpg /content/yolo_labels_1/2123.txt\n",
            "./content/images_road/878.jpg /content/yolo_labels_1/878.txt\n",
            "./content/images_road/18.jpg /content/yolo_labels_1/18.txt\n",
            "./content/images_road/2141.jpg /content/yolo_labels_1/2141.txt\n",
            "./content/images_road/2951.jpg /content/yolo_labels_1/2951.txt\n",
            "./content/images_road/927.jpg /content/yolo_labels_1/927.txt\n",
            "./content/images_road/242.jpg /content/yolo_labels_1/242.txt\n",
            "./content/images_road/2948.jpg /content/yolo_labels_1/2948.txt\n",
            "./content/images_road/1145.jpg /content/yolo_labels_1/1145.txt\n",
            "./content/images_road/236.jpg /content/yolo_labels_1/236.txt\n",
            "./content/images_road/574.jpg /content/yolo_labels_1/574.txt\n",
            "./content/images_road/1212.jpg /content/yolo_labels_1/1212.txt\n",
            "./content/images_road/1400.jpg /content/yolo_labels_1/1400.txt\n",
            "./content/images_road/1421.jpg /content/yolo_labels_1/1421.txt\n",
            "./content/images_road/1549.jpg /content/yolo_labels_1/1549.txt\n",
            "./content/images_road/1742.jpg /content/yolo_labels_1/1742.txt\n",
            "./content/images_road/962.jpg /content/yolo_labels_1/962.txt\n",
            "./content/images_road/423.jpg /content/yolo_labels_1/423.txt\n",
            "./content/images_road/819.jpg /content/yolo_labels_1/819.txt\n",
            "./content/images_road/2284.jpg /content/yolo_labels_1/2284.txt\n",
            "./content/images_road/1875.jpg /content/yolo_labels_1/1875.txt\n",
            "./content/images_road/1499.jpg /content/yolo_labels_1/1499.txt\n",
            "./content/images_road/2147.jpg /content/yolo_labels_1/2147.txt\n",
            "./content/images_road/1154.jpg /content/yolo_labels_1/1154.txt\n",
            "./content/images_road/2403.jpg /content/yolo_labels_1/2403.txt\n",
            "./content/images_road/2475.jpg /content/yolo_labels_1/2475.txt\n",
            "./content/images_road/2041.jpg /content/yolo_labels_1/2041.txt\n",
            "./content/images_road/947.jpg /content/yolo_labels_1/947.txt\n",
            "./content/images_road/61.jpg /content/yolo_labels_1/61.txt\n",
            "./content/images_road/2585.jpg /content/yolo_labels_1/2585.txt\n",
            "./content/images_road/2490.jpg /content/yolo_labels_1/2490.txt\n",
            "./content/images_road/2798.jpg /content/yolo_labels_1/2798.txt\n",
            "./content/images_road/2210.jpg /content/yolo_labels_1/2210.txt\n",
            "./content/images_road/1167.jpg /content/yolo_labels_1/1167.txt\n",
            "./content/images_road/159.jpg /content/yolo_labels_1/159.txt\n",
            "./content/images_road/2797.jpg /content/yolo_labels_1/2797.txt\n",
            "./content/images_road/594.jpg /content/yolo_labels_1/594.txt\n",
            "./content/images_road/2748.jpg /content/yolo_labels_1/2748.txt\n",
            "./content/images_road/1426.jpg /content/yolo_labels_1/1426.txt\n",
            "./content/images_road/37.jpg /content/yolo_labels_1/37.txt\n",
            "./content/images_road/694.jpg /content/yolo_labels_1/694.txt\n",
            "./content/images_road/382.jpg /content/yolo_labels_1/382.txt\n",
            "./content/images_road/1983.jpg /content/yolo_labels_1/1983.txt\n",
            "./content/images_road/293.jpg /content/yolo_labels_1/293.txt\n",
            "./content/images_road/86.jpg /content/yolo_labels_1/86.txt\n",
            "./content/images_road/2146.jpg /content/yolo_labels_1/2146.txt\n",
            "./content/images_road/1179.jpg /content/yolo_labels_1/1179.txt\n",
            "./content/images_road/1638.jpg /content/yolo_labels_1/1638.txt\n",
            "./content/images_road/378.jpg /content/yolo_labels_1/378.txt\n",
            "./content/images_road/626.jpg /content/yolo_labels_1/626.txt\n",
            "./content/images_road/651.jpg /content/yolo_labels_1/651.txt\n",
            "./content/images_road/2504.jpg /content/yolo_labels_1/2504.txt\n",
            "./content/images_road/8.jpg /content/yolo_labels_1/8.txt\n",
            "./content/images_road/997.jpg /content/yolo_labels_1/997.txt\n",
            "./content/images_road/1149.jpg /content/yolo_labels_1/1149.txt\n",
            "./content/images_road/221.jpg /content/yolo_labels_1/221.txt\n",
            "./content/images_road/1749.jpg /content/yolo_labels_1/1749.txt\n",
            "./content/images_road/1996.jpg /content/yolo_labels_1/1996.txt\n",
            "./content/images_road/714.jpg /content/yolo_labels_1/714.txt\n",
            "./content/images_road/1632.jpg /content/yolo_labels_1/1632.txt\n",
            "./content/images_road/2227.jpg /content/yolo_labels_1/2227.txt\n",
            "./content/images_road/1239.jpg /content/yolo_labels_1/1239.txt\n",
            "./content/images_road/1564.jpg /content/yolo_labels_1/1564.txt\n",
            "./content/images_road/800.jpg /content/yolo_labels_1/800.txt\n",
            "./content/images_road/2187.jpg /content/yolo_labels_1/2187.txt\n",
            "./content/images_road/2936.jpg /content/yolo_labels_1/2936.txt\n",
            "./content/images_road/896.jpg /content/yolo_labels_1/896.txt\n",
            "./content/images_road/153.jpg /content/yolo_labels_1/153.txt\n",
            "./content/images_road/1399.jpg /content/yolo_labels_1/1399.txt\n",
            "./content/images_road/508.jpg /content/yolo_labels_1/508.txt\n",
            "./content/images_road/886.jpg /content/yolo_labels_1/886.txt\n",
            "./content/images_road/1036.jpg /content/yolo_labels_1/1036.txt\n",
            "./content/images_road/107.jpg /content/yolo_labels_1/107.txt\n",
            "./content/images_road/2438.jpg /content/yolo_labels_1/2438.txt\n",
            "./content/images_road/2031.jpg /content/yolo_labels_1/2031.txt\n",
            "./content/images_road/2902.jpg /content/yolo_labels_1/2902.txt\n",
            "./content/images_road/2184.jpg /content/yolo_labels_1/2184.txt\n",
            "./content/images_road/1753.jpg /content/yolo_labels_1/1753.txt\n",
            "./content/images_road/401.jpg /content/yolo_labels_1/401.txt\n",
            "./content/images_road/2461.jpg /content/yolo_labels_1/2461.txt\n",
            "./content/images_road/1330.jpg /content/yolo_labels_1/1330.txt\n",
            "./content/images_road/20.jpg /content/yolo_labels_1/20.txt\n",
            "./content/images_road/2189.jpg /content/yolo_labels_1/2189.txt\n",
            "./content/images_road/36.jpg /content/yolo_labels_1/36.txt\n",
            "./content/images_road/605.jpg /content/yolo_labels_1/605.txt\n",
            "./content/images_road/1308.jpg /content/yolo_labels_1/1308.txt\n",
            "./content/images_road/1110.jpg /content/yolo_labels_1/1110.txt\n",
            "./content/images_road/2689.jpg /content/yolo_labels_1/2689.txt\n",
            "./content/images_road/442.jpg /content/yolo_labels_1/442.txt\n",
            "./content/images_road/1185.jpg /content/yolo_labels_1/1185.txt\n",
            "./content/images_road/1873.jpg /content/yolo_labels_1/1873.txt\n",
            "./content/images_road/1079.jpg /content/yolo_labels_1/1079.txt\n",
            "./content/images_road/1128.jpg /content/yolo_labels_1/1128.txt\n",
            "./content/images_road/2657.jpg /content/yolo_labels_1/2657.txt\n",
            "./content/images_road/1494.jpg /content/yolo_labels_1/1494.txt\n",
            "./content/images_road/168.jpg /content/yolo_labels_1/168.txt\n",
            "./content/images_road/2606.jpg /content/yolo_labels_1/2606.txt\n",
            "./content/images_road/2330.jpg /content/yolo_labels_1/2330.txt\n",
            "./content/images_road/1136.jpg /content/yolo_labels_1/1136.txt\n",
            "./content/images_road/2639.jpg /content/yolo_labels_1/2639.txt\n",
            "./content/images_road/2062.jpg /content/yolo_labels_1/2062.txt\n",
            "./content/images_road/1872.jpg /content/yolo_labels_1/1872.txt\n",
            "./content/images_road/925.jpg /content/yolo_labels_1/925.txt\n",
            "./content/images_road/1200.jpg /content/yolo_labels_1/1200.txt\n",
            "./content/images_road/2724.jpg /content/yolo_labels_1/2724.txt\n",
            "./content/images_road/2753.jpg /content/yolo_labels_1/2753.txt\n",
            "./content/images_road/210.jpg /content/yolo_labels_1/210.txt\n",
            "./content/images_road/2003.jpg /content/yolo_labels_1/2003.txt\n",
            "./content/images_road/2624.jpg /content/yolo_labels_1/2624.txt\n",
            "./content/images_road/2314.jpg /content/yolo_labels_1/2314.txt\n",
            "./content/images_road/2008.jpg /content/yolo_labels_1/2008.txt\n",
            "./content/images_road/417.jpg /content/yolo_labels_1/417.txt\n",
            "./content/images_road/2001.jpg /content/yolo_labels_1/2001.txt\n",
            "./content/images_road/1007.jpg /content/yolo_labels_1/1007.txt\n",
            "./content/images_road/1877.jpg /content/yolo_labels_1/1877.txt\n",
            "./content/images_road/217.jpg /content/yolo_labels_1/217.txt\n",
            "./content/images_road/2245.jpg /content/yolo_labels_1/2245.txt\n",
            "./content/images_road/330.jpg /content/yolo_labels_1/330.txt\n",
            "./content/images_road/1470.jpg /content/yolo_labels_1/1470.txt\n",
            "./content/images_road/2846.jpg /content/yolo_labels_1/2846.txt\n",
            "./content/images_road/2590.jpg /content/yolo_labels_1/2590.txt\n",
            "./content/images_road/1757.jpg /content/yolo_labels_1/1757.txt\n"
          ]
        }
      ]
    },
    {
      "cell_type": "code",
      "source": [
        "# prompt: zip all files of out_path\n",
        "\n",
        "import os\n",
        "import zipfile\n",
        "\n",
        "def zip_files(directory_path, zip_filename):\n",
        "  \"\"\"Zips all files in the specified directory.\"\"\"\n",
        "  try:\n",
        "    with zipfile.ZipFile(zip_filename, 'w', zipfile.ZIP_DEFLATED) as zipf:\n",
        "      for root, _, files in os.walk(directory_path):\n",
        "        for file in files:\n",
        "          file_path = os.path.join(root, file)\n",
        "          zipf.write(file_path, arcname=os.path.relpath(file_path, directory_path))\n",
        "    print(f\"Successfully zipped files to {zip_filename}\")\n",
        "  except Exception as e:\n",
        "    print(f\"An error occurred while zipping files: {e}\")\n",
        "\n",
        "# Example usage:\n",
        "out_path = '/content/yolo_labels'\n",
        "zip_filename = '/content/yolo_labels.zip' # Specify the desired zip file name\n",
        "zip_files(out_path, zip_filename)"
      ],
      "metadata": {
        "id": "zEFGDZWVsphB"
      },
      "execution_count": null,
      "outputs": []
    },
    {
      "cell_type": "code",
      "source": [
        "stop"
      ],
      "metadata": {
        "id": "Sh_KnHapt2Fh"
      },
      "execution_count": null,
      "outputs": []
    },
    {
      "cell_type": "markdown",
      "source": [
        "Ahora generar eel formato y entrenar Yolo o algo asi"
      ],
      "metadata": {
        "id": "U90NCwvlResK"
      }
    },
    {
      "cell_type": "code",
      "source": [
        "type(image_source), type(image)"
      ],
      "metadata": {
        "id": "twkheMjk70KP"
      },
      "execution_count": null,
      "outputs": []
    },
    {
      "cell_type": "code",
      "source": [
        "image_source.shape, image.shape,"
      ],
      "metadata": {
        "id": "fDoVktBZ70ED"
      },
      "execution_count": null,
      "outputs": []
    },
    {
      "cell_type": "code",
      "source": [
        "# Function to convert bounding boxes to YOLO format\n",
        "def convert_to_yolo_format(boxes, image_width, image_height, class_id=0):\n",
        "    yolo_boxes = []\n",
        "    for box in boxes:\n",
        "        # Extract coordinates\n",
        "        x_min, y_min, x_max, y_max = box\n",
        "        # Calculate YOLO format values\n",
        "        x_center = ((x_min + x_max) / 2) / image_width\n",
        "        y_center = ((y_min + y_max) / 2) / image_height\n",
        "        width = (x_max - x_min) / image_width\n",
        "        height = (y_max - y_min) / image_height\n",
        "        # Append to list as a string\n",
        "        yolo_boxes.append(f\"{class_id} {x_center} {y_center} {width} {height}\")\n",
        "    return yolo_boxes\n",
        "\n",
        "# Image dimensions\n",
        "image_height, image_width, _ = image.shape\n",
        "\n",
        "# Convert boxes to YOLO format\n",
        "yolo_annotations = convert_to_yolo_format(boxes, image_width, image_height)\n",
        "\n",
        "# Save annotations to a file\n",
        "output_dir = \"/content/yolo_labels/\"\n",
        "os.makedirs(output_dir, exist_ok=True)\n",
        "output_path = os.path.join(output_dir, os.path.basename(img_path).replace('.jpg', '.txt'))\n",
        "\n",
        "with open(output_path, \"w\") as f:\n",
        "    f.write(\"\\n\".join(yolo_annotations))\n",
        "\n",
        "print(f\"YOLO annotations saved to: {output_path}\")"
      ],
      "metadata": {
        "id": "VFOW9sa9eXXX"
      },
      "execution_count": null,
      "outputs": []
    },
    {
      "cell_type": "code",
      "source": [],
      "metadata": {
        "id": "xsXgIYBC70BE"
      },
      "execution_count": null,
      "outputs": []
    },
    {
      "cell_type": "code",
      "source": [
        "\n",
        "import supervision as sv"
      ],
      "metadata": {
        "id": "jUcbM6h74L0a"
      },
      "execution_count": null,
      "outputs": []
    },
    {
      "cell_type": "markdown",
      "source": [],
      "metadata": {
        "id": "jkBizcPT7SGs"
      }
    },
    {
      "cell_type": "code",
      "source": [],
      "metadata": {
        "id": "SFu6WBiL4Lxi"
      },
      "execution_count": null,
      "outputs": []
    },
    {
      "cell_type": "code",
      "source": [],
      "metadata": {
        "id": "3SF6Dm4k4LsH"
      },
      "execution_count": null,
      "outputs": []
    },
    {
      "cell_type": "code",
      "source": [],
      "metadata": {
        "id": "MjZNS4Bg4LpU"
      },
      "execution_count": null,
      "outputs": []
    }
  ]
}